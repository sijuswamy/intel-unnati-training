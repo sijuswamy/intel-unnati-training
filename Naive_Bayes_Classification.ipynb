{
  "nbformat": 4,
  "nbformat_minor": 0,
  "metadata": {
    "colab": {
      "provenance": [],
      "authorship_tag": "ABX9TyOvyuQoyGOIT8+cM7MocV51"
    },
    "kernelspec": {
      "name": "python3",
      "display_name": "Python 3"
    },
    "language_info": {
      "name": "python"
    }
  },
  "cells": [
    {
      "cell_type": "markdown",
      "source": [
        "##  Introduction\n",
        "`Naive Bayes` is a probabilistic machine learning algorithm that can be used in a wide variety of classification tasks.\n",
        "\n",
        "Typical applications include filtering spam, classifying documents, sentiment prediction etc. It is based on the works of Rev. Thomas Bayes (1702) and hence the name.\n",
        "\n",
        "## But why is it called ‘Naive’?\n",
        "\n",
        "The name `naive` is used because it assumes the features that go into the model is independent of each other. That is changing the value of one feature, does not directly influence or change the value of any of the other features used in the algorithm.\n",
        "\n",
        "## why is it so popular?\n",
        "\n",
        "That’s because there is a significant advantage with NB. Since it is a probabilistic model, the algorithm can be coded up easily and the predictions made real quick. Real-time quick.\n",
        "\n",
        "Because of this, it is easily scalable and is traditionally the algorithm of choice for real-world applications (apps) that are required to respond to user’s requests instantaneously.\n",
        "\n",
        "But before you go into Naive Bayes, you need to understand what `Conditional Probability` is and what is the `Bayes Rule`.\n"
      ],
      "metadata": {
        "id": "DbwbO31WQoRO"
      }
    },
    {
      "cell_type": "markdown",
      "source": [
        "## Definition of Multiplication theorem and conditional probability\n",
        "\n",
        "If $A$ and $B$ be two events, then\n",
        "\n",
        "$P(A\\cap B)=P(A)\\times P(B)$, provided $A$ and $B$ are independent. If not, the theorem becomes:\n",
        "$$P(A\\cap B)=P(A)\\times P(B|A)$$\n",
        "\n",
        "Here $P(B|A)$ is called the conditional probability for $B$."
      ],
      "metadata": {
        "id": "dre_9TwPRpJz"
      }
    },
    {
      "cell_type": "markdown",
      "source": [
        ">**Example:**\n",
        "\n",
        "Consider a school with a total population of 100 persons. These 100 persons can be seen either as ‘Students’ and ‘Teachers’ or as a population of ‘Males’ and ‘Females’.\n",
        "\n",
        "With below tabulation of the 100 people, what is the conditional probability that a certain member of the school is a ‘Teacher’ given that he is a ‘Man’?\n",
        "\n",
        "\\begin{array}{|l|c|c|c|}\\hline\n",
        "&Female&male&Total\\\\\\hline\n",
        "Teacher&8&12&20\\\\\n",
        "Student&38&42&80\\\\\\hline\n",
        "Total&40&60&100\\\\\\hline \n",
        "\\end{array}\n",
        "\n"
      ],
      "metadata": {
        "id": "OfdB8AJISa7Z"
      }
    },
    {
      "cell_type": "markdown",
      "source": [
        ">**Solution:**\n",
        "\n",
        "$P(Teacher|Man)=\\dfrac{P(Man \\cap Teacher)}{P(Man)}=\\dfrac{12/100}{60/100}=\\dfrac{12}{60}$"
      ],
      "metadata": {
        "id": "mZGw8sawU4dd"
      }
    },
    {
      "cell_type": "markdown",
      "source": [
        "## The Bayes Rule\n",
        "The Bayes Rule is a way of going from $P(X|Y)$, known from the training dataset, to find $P(Y|X)$.\n",
        "$$P(Y|X)=\\dfrac{P(X|Y)P(Y)}{P(X)}$$"
      ],
      "metadata": {
        "id": "U_G1ZkHVWOLw"
      }
    },
    {
      "cell_type": "markdown",
      "source": [
        "## Naive Bayes algorithm\n",
        "\n",
        "The algorithm is based on Bayes' theorem, which states that the probability of a hypothesis (in this case, a class label) given some observed evidence (in this case, a set of features) is proportional to the probability of the evidence given the hypothesis times the prior probability of the hypothesis.\n",
        "\n",
        "The \"naive\" assumption in Naive Bayes is that the features are conditionally independent given the class label, which simplifies the calculation of the likelihood of the evidence given the hypothesis. This assumption, although not always true, often results in good performance in practice.\n",
        "\n",
        "## Working of NB Algorithm\n",
        "\n",
        "The algorithm works by first learning the prior probability of each class label and the conditional probability of each feature given each class label using a training set. Then, given a new example with a set of features, it calculates the posterior probability of each class label using Bayes' theorem and chooses the label with the highest probability as the predicted label for the example.\n",
        "\n",
        "Naive Bayes is known for its simplicity, scalability, and speed, and it can work well even with small amounts of training data. However, it may not perform well if the independence assumption is strongly violated or if the feature distribution is skewed or multi-modal."
      ],
      "metadata": {
        "id": "VIUgwUfkW8xv"
      }
    },
    {
      "cell_type": "markdown",
      "source": [
        "For observations in test or scoring data, the X would be known while Y is unknown. And for each row of the test dataset, you want to compute the probability of Y given the X has already happened..\n",
        "\n",
        "What happens if Y has more than 2 categories? we compute the probability of each class of Y and let the highest win."
      ],
      "metadata": {
        "id": "y0FD5PGRW2-H"
      }
    },
    {
      "cell_type": "markdown",
      "source": [
        "## Ingenious example of NB-Fruit data\n",
        "\n",
        "1000 fruits which could be either ‘banana’, ‘orange’ or ‘other’. These are the 3 possible classes of the Y variable. We have data for the following X variables, all of which are binary (1 or 0).\n",
        "\n",
        "- Long\n",
        "- Sweet\n",
        "- Yellow\n",
        "The first few rows of the training dataset look like this:\n",
        "\\begin{array}{|l|l|l|l|}\\hline\n",
        "Fruit&Long&Sweet&Yellow\\\\\\hline\n",
        "Orange&0&1&0\\\\\n",
        "Banana&1&1&0\\\\\n",
        "Other&1&1&0\\\\\\hline\n",
        "\\end{array}"
      ],
      "metadata": {
        "id": "3rHJegr5Ymmc"
      }
    },
    {
      "cell_type": "markdown",
      "source": [
        "## Aggregation table of fruit data\n",
        "\n",
        "\\begin{array}{|l|l|l|l|l|l|l|r|}\\hline\n",
        "Type&long&not\\, long&sweet&not\\, sweet&yellow&not\\,yellow&Total\\\\\\hline\n",
        "Banana&400&100&350&150&450&50&500\\\\\\hline\n",
        "Orange&0&300&150&150&300&0&300\\\\\\hline\n",
        "Other&100&100&150&50&50&150&200\\\\\\hline\n",
        "Total&500&500&650&350&800&200&1000\\\\\\hline\n",
        "\\end{array}\n",
        "\n",
        "## the objective of the classifier\n",
        "\n",
        ">To predict if a given fruit is a ‘Banana’ or ‘Orange’ or ‘Other’ when only the 3 features (long, sweet and yellow) are known.\n",
        "\n",
        "Let’s say you are given a fruit that is: Long, Sweet and Yellow, can you predict what fruit it is?\n",
        "\n",
        "This is the same of predicting the Y when only the X variables in testing data are known.\n",
        "\n",
        "Let’s solve it by hand using Naive Bayes. The idea is to compute the 3 probabilities, that is the probability of the fruit being a banana, orange or other. Whichever fruit type gets the highest probability wins.\n",
        "\n",
        "All the information to calculate these probabilities is present in the above tabulation."
      ],
      "metadata": {
        "id": "BtxPkhQEZazm"
      }
    },
    {
      "cell_type": "markdown",
      "source": [
        "### Step-1 Compute the ‘Prior’ probabilities\n",
        "\n",
        "let’s compute from the training data. Out of 1000 records in training data, we have 500 Bananas, 300 Oranges and 200 Others.\n",
        "\n",
        "So the respective priors are 0.5, 0.3 and 0.2. P(Y=Banana) = 500 / 1000 = 0.50 P(Y=Orange) = 300 / 1000 = 0.30 P(Y=Other) = 200 / 1000 = 0.20\n",
        "\n",
        "### Step-2 Compute the probability of likelihood of evidences\n",
        "\n",
        " It is the product of conditional probabilities of the 3 features. If you refer back to the formula, it says P(X1 |Y=k).\n",
        "\n",
        "Here X1 is ‘Long’ and k is ‘Banana’.\n",
        "\n",
        "That means the probability the fruit is ‘Long’ given that it is a Banana. In the above table, you have 500 Bananas. Out of that 400 is long.\n",
        "\n",
        "So, P(Long | Banana) = 400/500 = 0.8. Here, I have done it for Banana alone.\n",
        "\n",
        "Probability of Likelihood for Banana P(x1=Long | Y=Banana) = 400 / 500 = 0.80 P(x2=Sweet | Y=Banana) = 350 / 500 = 0.70 P(x3=Yellow | Y=Banana) = 450 / 500 = 0.90.\n",
        "\n",
        "So, the overall probability of Likelihood of evidence for Banana = 0.8 * 0.7 * 0.9 = 0.504\n",
        "\n",
        "Similarly likelihood evidence for orange=$0.0\\times 0.5\\times 1.0=0.0$\n",
        "\n",
        "Likelihood evidence for Others=$0.5\\times 0.75\\times 0.25=0.09375$\n",
        "\n",
        "### Step 3 Compute the probability of evidence \n",
        "\n",
        "$P(X)=P(Long, sweet, yellow)=0.5\\times 0.65\\times 0.8=0.26$\n",
        "\n"
      ],
      "metadata": {
        "id": "sU0hxrvfbV-8"
      }
    },
    {
      "cell_type": "markdown",
      "source": [
        "### Calculating posterior probabilities\n",
        "\\begin{array}{lcl}\n",
        "P(Banana|long,sweet,yellow)&=&\\dfrac{P(long|Banana)P(Sweet|Banana)P(yellow|Banana)P(Banana)}{P(long,sweet,yellow)}\\\\\n",
        "&=&0.504\\times 0.50/0.26\\\\\n",
        "&=&0.96\\\\\n",
        "P(Orange|long,sweet,Yellow)&=&0.0\\\\\n",
        "P(Others|long,sweet,yellow)&=&0.0721\n",
        "\\end{array}"
      ],
      "metadata": {
        "id": "T9ZAsAI6fDFn"
      }
    },
    {
      "cell_type": "markdown",
      "source": [
        "## Laplace Correction?\n",
        "The value of $P(Orange | Long, Sweet and Yellow)$ was zero in the above example, because, $P(Long | Orange)$ was zero.\n",
        "\n",
        "That is, there were no ‘Long’ oranges in the training data.\n",
        "\n",
        "It makes sense, but when you have a model with many features, the entire probability will become zero because one of the feature’s value was zero. To avoid this, we increase the count of the variable with zero to a small value (usually 1) in the numerator, so that the overall probability doesn’t become zero. This approach is called ‘Laplace Correction’."
      ],
      "metadata": {
        "id": "rywmvunDhRwD"
      }
    },
    {
      "cell_type": "markdown",
      "source": [
        "## Gaussian Naive Bayes?\n",
        "So far we’ve seen the computations when the X’s are categorical.\n",
        "\n",
        "But how to compute the probabilities when X is a continuous variable?\n",
        "\n",
        "If we assume that the X follows a particular distribution, then you can plug in the probability density function of that distribution to compute the probability of likelihoods.\n",
        "\n",
        "If you assume the X’s follow a Normal (aka Gaussian) Distribution, which is fairly common, we substitute the corresponding probability density of a Normal distribution and call it the Gaussian Naive Bayes."
      ],
      "metadata": {
        "id": "On1qUTOTht_n"
      }
    },
    {
      "cell_type": "markdown",
      "source": [
        "## Naive Bayes Classifier in Python"
      ],
      "metadata": {
        "id": "gYry6WNHh1KW"
      }
    },
    {
      "cell_type": "code",
      "source": [
        "# Importing the libraries\n",
        "import numpy as np\n",
        "import matplotlib.pyplot as plt\n",
        "import pandas as pd\n",
        "import seaborn as sns\n",
        "sns.set(color_codes=True)"
      ],
      "metadata": {
        "id": "dtEB6yuch48j"
      },
      "execution_count": null,
      "outputs": []
    },
    {
      "cell_type": "code",
      "source": [
        "# import data\n",
        "from sklearn import datasets\n",
        "# import some data to play with\n",
        "iris = datasets.load_iris()"
      ],
      "metadata": {
        "id": "BOIzF2H9h8xc"
      },
      "execution_count": null,
      "outputs": []
    },
    {
      "cell_type": "code",
      "source": [
        "dataset = pd.DataFrame(data=iris.data, columns=[\"sepal_length\", \"sepal_width\", \"petal_length\", \"petal_width\"])\n",
        "dataset[\"target\"] = iris.target"
      ],
      "metadata": {
        "id": "I8TM76fwiF7T"
      },
      "execution_count": null,
      "outputs": []
    },
    {
      "cell_type": "code",
      "source": [
        "dataset.head()"
      ],
      "metadata": {
        "colab": {
          "base_uri": "https://localhost:8080/",
          "height": 206
        },
        "id": "U8AwM5rZD5YZ",
        "outputId": "906fcc03-6cf4-44dd-dedc-71676a0189fe"
      },
      "execution_count": null,
      "outputs": [
        {
          "output_type": "execute_result",
          "data": {
            "text/plain": [
              "   sepal_length  sepal_width  petal_length  petal_width  target\n",
              "0           5.1          3.5           1.4          0.2       0\n",
              "1           4.9          3.0           1.4          0.2       0\n",
              "2           4.7          3.2           1.3          0.2       0\n",
              "3           4.6          3.1           1.5          0.2       0\n",
              "4           5.0          3.6           1.4          0.2       0"
            ],
            "text/html": [
              "\n",
              "  <div id=\"df-be365241-71dd-45cd-b3ab-671cc9c4ef1b\">\n",
              "    <div class=\"colab-df-container\">\n",
              "      <div>\n",
              "<style scoped>\n",
              "    .dataframe tbody tr th:only-of-type {\n",
              "        vertical-align: middle;\n",
              "    }\n",
              "\n",
              "    .dataframe tbody tr th {\n",
              "        vertical-align: top;\n",
              "    }\n",
              "\n",
              "    .dataframe thead th {\n",
              "        text-align: right;\n",
              "    }\n",
              "</style>\n",
              "<table border=\"1\" class=\"dataframe\">\n",
              "  <thead>\n",
              "    <tr style=\"text-align: right;\">\n",
              "      <th></th>\n",
              "      <th>sepal_length</th>\n",
              "      <th>sepal_width</th>\n",
              "      <th>petal_length</th>\n",
              "      <th>petal_width</th>\n",
              "      <th>target</th>\n",
              "    </tr>\n",
              "  </thead>\n",
              "  <tbody>\n",
              "    <tr>\n",
              "      <th>0</th>\n",
              "      <td>5.1</td>\n",
              "      <td>3.5</td>\n",
              "      <td>1.4</td>\n",
              "      <td>0.2</td>\n",
              "      <td>0</td>\n",
              "    </tr>\n",
              "    <tr>\n",
              "      <th>1</th>\n",
              "      <td>4.9</td>\n",
              "      <td>3.0</td>\n",
              "      <td>1.4</td>\n",
              "      <td>0.2</td>\n",
              "      <td>0</td>\n",
              "    </tr>\n",
              "    <tr>\n",
              "      <th>2</th>\n",
              "      <td>4.7</td>\n",
              "      <td>3.2</td>\n",
              "      <td>1.3</td>\n",
              "      <td>0.2</td>\n",
              "      <td>0</td>\n",
              "    </tr>\n",
              "    <tr>\n",
              "      <th>3</th>\n",
              "      <td>4.6</td>\n",
              "      <td>3.1</td>\n",
              "      <td>1.5</td>\n",
              "      <td>0.2</td>\n",
              "      <td>0</td>\n",
              "    </tr>\n",
              "    <tr>\n",
              "      <th>4</th>\n",
              "      <td>5.0</td>\n",
              "      <td>3.6</td>\n",
              "      <td>1.4</td>\n",
              "      <td>0.2</td>\n",
              "      <td>0</td>\n",
              "    </tr>\n",
              "  </tbody>\n",
              "</table>\n",
              "</div>\n",
              "      <button class=\"colab-df-convert\" onclick=\"convertToInteractive('df-be365241-71dd-45cd-b3ab-671cc9c4ef1b')\"\n",
              "              title=\"Convert this dataframe to an interactive table.\"\n",
              "              style=\"display:none;\">\n",
              "        \n",
              "  <svg xmlns=\"http://www.w3.org/2000/svg\" height=\"24px\"viewBox=\"0 0 24 24\"\n",
              "       width=\"24px\">\n",
              "    <path d=\"M0 0h24v24H0V0z\" fill=\"none\"/>\n",
              "    <path d=\"M18.56 5.44l.94 2.06.94-2.06 2.06-.94-2.06-.94-.94-2.06-.94 2.06-2.06.94zm-11 1L8.5 8.5l.94-2.06 2.06-.94-2.06-.94L8.5 2.5l-.94 2.06-2.06.94zm10 10l.94 2.06.94-2.06 2.06-.94-2.06-.94-.94-2.06-.94 2.06-2.06.94z\"/><path d=\"M17.41 7.96l-1.37-1.37c-.4-.4-.92-.59-1.43-.59-.52 0-1.04.2-1.43.59L10.3 9.45l-7.72 7.72c-.78.78-.78 2.05 0 2.83L4 21.41c.39.39.9.59 1.41.59.51 0 1.02-.2 1.41-.59l7.78-7.78 2.81-2.81c.8-.78.8-2.07 0-2.86zM5.41 20L4 18.59l7.72-7.72 1.47 1.35L5.41 20z\"/>\n",
              "  </svg>\n",
              "      </button>\n",
              "      \n",
              "  <style>\n",
              "    .colab-df-container {\n",
              "      display:flex;\n",
              "      flex-wrap:wrap;\n",
              "      gap: 12px;\n",
              "    }\n",
              "\n",
              "    .colab-df-convert {\n",
              "      background-color: #E8F0FE;\n",
              "      border: none;\n",
              "      border-radius: 50%;\n",
              "      cursor: pointer;\n",
              "      display: none;\n",
              "      fill: #1967D2;\n",
              "      height: 32px;\n",
              "      padding: 0 0 0 0;\n",
              "      width: 32px;\n",
              "    }\n",
              "\n",
              "    .colab-df-convert:hover {\n",
              "      background-color: #E2EBFA;\n",
              "      box-shadow: 0px 1px 2px rgba(60, 64, 67, 0.3), 0px 1px 3px 1px rgba(60, 64, 67, 0.15);\n",
              "      fill: #174EA6;\n",
              "    }\n",
              "\n",
              "    [theme=dark] .colab-df-convert {\n",
              "      background-color: #3B4455;\n",
              "      fill: #D2E3FC;\n",
              "    }\n",
              "\n",
              "    [theme=dark] .colab-df-convert:hover {\n",
              "      background-color: #434B5C;\n",
              "      box-shadow: 0px 1px 3px 1px rgba(0, 0, 0, 0.15);\n",
              "      filter: drop-shadow(0px 1px 2px rgba(0, 0, 0, 0.3));\n",
              "      fill: #FFFFFF;\n",
              "    }\n",
              "  </style>\n",
              "\n",
              "      <script>\n",
              "        const buttonEl =\n",
              "          document.querySelector('#df-be365241-71dd-45cd-b3ab-671cc9c4ef1b button.colab-df-convert');\n",
              "        buttonEl.style.display =\n",
              "          google.colab.kernel.accessAllowed ? 'block' : 'none';\n",
              "\n",
              "        async function convertToInteractive(key) {\n",
              "          const element = document.querySelector('#df-be365241-71dd-45cd-b3ab-671cc9c4ef1b');\n",
              "          const dataTable =\n",
              "            await google.colab.kernel.invokeFunction('convertToInteractive',\n",
              "                                                     [key], {});\n",
              "          if (!dataTable) return;\n",
              "\n",
              "          const docLinkHtml = 'Like what you see? Visit the ' +\n",
              "            '<a target=\"_blank\" href=https://colab.research.google.com/notebooks/data_table.ipynb>data table notebook</a>'\n",
              "            + ' to learn more about interactive tables.';\n",
              "          element.innerHTML = '';\n",
              "          dataTable['output_type'] = 'display_data';\n",
              "          await google.colab.output.renderOutput(dataTable, element);\n",
              "          const docLink = document.createElement('div');\n",
              "          docLink.innerHTML = docLinkHtml;\n",
              "          element.appendChild(docLink);\n",
              "        }\n",
              "      </script>\n",
              "    </div>\n",
              "  </div>\n",
              "  "
            ]
          },
          "metadata": {},
          "execution_count": 4
        }
      ]
    },
    {
      "cell_type": "code",
      "source": [
        "# Splitting the dataset into the Training set and Test set\n",
        "X = dataset.iloc[:, [0,1,2, 3]].values\n",
        "#X = dataset.iloc[:, [2, 3]].values\n",
        "y = dataset.iloc[:, 4].values\n",
        "from sklearn.model_selection import train_test_split\n",
        "X_train, X_test, y_train, y_test = train_test_split(X, y, test_size = 0.25, random_state = 0)"
      ],
      "metadata": {
        "id": "wujfFMAriOTG"
      },
      "execution_count": null,
      "outputs": []
    },
    {
      "cell_type": "code",
      "source": [
        "from sklearn.preprocessing import StandardScaler\n",
        "sc = StandardScaler()\n",
        "X_train = sc.fit_transform(X_train)\n",
        "X_test = sc.transform(X_test)"
      ],
      "metadata": {
        "id": "NWwiv35miZwg"
      },
      "execution_count": null,
      "outputs": []
    },
    {
      "cell_type": "code",
      "source": [
        "from sklearn.naive_bayes import GaussianNB"
      ],
      "metadata": {
        "id": "0vvpK9VGiWN-"
      },
      "execution_count": null,
      "outputs": []
    },
    {
      "cell_type": "code",
      "source": [
        "# Init the Gaussian Classifier\n",
        "model = GaussianNB()\n",
        "\n",
        "# Train the model \n",
        "model.fit(X_train, y_train)\n"
      ],
      "metadata": {
        "colab": {
          "base_uri": "https://localhost:8080/",
          "height": 74
        },
        "id": "fo9SDAIViiig",
        "outputId": "eab70126-50b3-4d1a-f555-69cefe6bb4a4"
      },
      "execution_count": null,
      "outputs": [
        {
          "output_type": "execute_result",
          "data": {
            "text/plain": [
              "GaussianNB()"
            ],
            "text/html": [
              "<style>#sk-container-id-1 {color: black;background-color: white;}#sk-container-id-1 pre{padding: 0;}#sk-container-id-1 div.sk-toggleable {background-color: white;}#sk-container-id-1 label.sk-toggleable__label {cursor: pointer;display: block;width: 100%;margin-bottom: 0;padding: 0.3em;box-sizing: border-box;text-align: center;}#sk-container-id-1 label.sk-toggleable__label-arrow:before {content: \"▸\";float: left;margin-right: 0.25em;color: #696969;}#sk-container-id-1 label.sk-toggleable__label-arrow:hover:before {color: black;}#sk-container-id-1 div.sk-estimator:hover label.sk-toggleable__label-arrow:before {color: black;}#sk-container-id-1 div.sk-toggleable__content {max-height: 0;max-width: 0;overflow: hidden;text-align: left;background-color: #f0f8ff;}#sk-container-id-1 div.sk-toggleable__content pre {margin: 0.2em;color: black;border-radius: 0.25em;background-color: #f0f8ff;}#sk-container-id-1 input.sk-toggleable__control:checked~div.sk-toggleable__content {max-height: 200px;max-width: 100%;overflow: auto;}#sk-container-id-1 input.sk-toggleable__control:checked~label.sk-toggleable__label-arrow:before {content: \"▾\";}#sk-container-id-1 div.sk-estimator input.sk-toggleable__control:checked~label.sk-toggleable__label {background-color: #d4ebff;}#sk-container-id-1 div.sk-label input.sk-toggleable__control:checked~label.sk-toggleable__label {background-color: #d4ebff;}#sk-container-id-1 input.sk-hidden--visually {border: 0;clip: rect(1px 1px 1px 1px);clip: rect(1px, 1px, 1px, 1px);height: 1px;margin: -1px;overflow: hidden;padding: 0;position: absolute;width: 1px;}#sk-container-id-1 div.sk-estimator {font-family: monospace;background-color: #f0f8ff;border: 1px dotted black;border-radius: 0.25em;box-sizing: border-box;margin-bottom: 0.5em;}#sk-container-id-1 div.sk-estimator:hover {background-color: #d4ebff;}#sk-container-id-1 div.sk-parallel-item::after {content: \"\";width: 100%;border-bottom: 1px solid gray;flex-grow: 1;}#sk-container-id-1 div.sk-label:hover label.sk-toggleable__label {background-color: #d4ebff;}#sk-container-id-1 div.sk-serial::before {content: \"\";position: absolute;border-left: 1px solid gray;box-sizing: border-box;top: 0;bottom: 0;left: 50%;z-index: 0;}#sk-container-id-1 div.sk-serial {display: flex;flex-direction: column;align-items: center;background-color: white;padding-right: 0.2em;padding-left: 0.2em;position: relative;}#sk-container-id-1 div.sk-item {position: relative;z-index: 1;}#sk-container-id-1 div.sk-parallel {display: flex;align-items: stretch;justify-content: center;background-color: white;position: relative;}#sk-container-id-1 div.sk-item::before, #sk-container-id-1 div.sk-parallel-item::before {content: \"\";position: absolute;border-left: 1px solid gray;box-sizing: border-box;top: 0;bottom: 0;left: 50%;z-index: -1;}#sk-container-id-1 div.sk-parallel-item {display: flex;flex-direction: column;z-index: 1;position: relative;background-color: white;}#sk-container-id-1 div.sk-parallel-item:first-child::after {align-self: flex-end;width: 50%;}#sk-container-id-1 div.sk-parallel-item:last-child::after {align-self: flex-start;width: 50%;}#sk-container-id-1 div.sk-parallel-item:only-child::after {width: 0;}#sk-container-id-1 div.sk-dashed-wrapped {border: 1px dashed gray;margin: 0 0.4em 0.5em 0.4em;box-sizing: border-box;padding-bottom: 0.4em;background-color: white;}#sk-container-id-1 div.sk-label label {font-family: monospace;font-weight: bold;display: inline-block;line-height: 1.2em;}#sk-container-id-1 div.sk-label-container {text-align: center;}#sk-container-id-1 div.sk-container {/* jupyter's `normalize.less` sets `[hidden] { display: none; }` but bootstrap.min.css set `[hidden] { display: none !important; }` so we also need the `!important` here to be able to override the default hidden behavior on the sphinx rendered scikit-learn.org. See: https://github.com/scikit-learn/scikit-learn/issues/21755 */display: inline-block !important;position: relative;}#sk-container-id-1 div.sk-text-repr-fallback {display: none;}</style><div id=\"sk-container-id-1\" class=\"sk-top-container\"><div class=\"sk-text-repr-fallback\"><pre>GaussianNB()</pre><b>In a Jupyter environment, please rerun this cell to show the HTML representation or trust the notebook. <br />On GitHub, the HTML representation is unable to render, please try loading this page with nbviewer.org.</b></div><div class=\"sk-container\" hidden><div class=\"sk-item\"><div class=\"sk-estimator sk-toggleable\"><input class=\"sk-toggleable__control sk-hidden--visually\" id=\"sk-estimator-id-1\" type=\"checkbox\" checked><label for=\"sk-estimator-id-1\" class=\"sk-toggleable__label sk-toggleable__label-arrow\">GaussianNB</label><div class=\"sk-toggleable__content\"><pre>GaussianNB()</pre></div></div></div></div></div>"
            ]
          },
          "metadata": {},
          "execution_count": 9
        }
      ]
    },
    {
      "cell_type": "code",
      "source": [
        "# Predicting the Test set results\n",
        "y_pred = model.predict(X_test)\n",
        "# Predict probabilities\n",
        "probs_y=model.predict_proba(X_test)\n",
        "### Print results \n",
        "probs_y = np.round(probs_y, 2)\n",
        "probs_y"
      ],
      "metadata": {
        "colab": {
          "base_uri": "https://localhost:8080/"
        },
        "id": "4qsRfEdbirWA",
        "outputId": "d9fa20e9-0503-4793-c25b-cb9d6a4cb7a2"
      },
      "execution_count": null,
      "outputs": [
        {
          "output_type": "execute_result",
          "data": {
            "text/plain": [
              "array([[0.  , 0.  , 1.  ],\n",
              "       [0.  , 1.  , 0.  ],\n",
              "       [1.  , 0.  , 0.  ],\n",
              "       [0.  , 0.  , 1.  ],\n",
              "       [1.  , 0.  , 0.  ],\n",
              "       [0.  , 0.  , 1.  ],\n",
              "       [1.  , 0.  , 0.  ],\n",
              "       [0.  , 0.78, 0.22],\n",
              "       [0.  , 0.91, 0.09],\n",
              "       [0.  , 1.  , 0.  ],\n",
              "       [0.  , 0.46, 0.54],\n",
              "       [0.  , 0.95, 0.05],\n",
              "       [0.  , 1.  , 0.  ],\n",
              "       [0.  , 0.95, 0.05],\n",
              "       [0.  , 0.99, 0.01],\n",
              "       [1.  , 0.  , 0.  ],\n",
              "       [0.  , 0.99, 0.01],\n",
              "       [0.  , 1.  , 0.  ],\n",
              "       [1.  , 0.  , 0.  ],\n",
              "       [1.  , 0.  , 0.  ],\n",
              "       [0.  , 0.01, 0.99],\n",
              "       [0.  , 0.99, 0.01],\n",
              "       [1.  , 0.  , 0.  ],\n",
              "       [1.  , 0.  , 0.  ],\n",
              "       [0.  , 0.16, 0.84],\n",
              "       [1.  , 0.  , 0.  ],\n",
              "       [1.  , 0.  , 0.  ],\n",
              "       [0.  , 1.  , 0.  ],\n",
              "       [0.  , 1.  , 0.  ],\n",
              "       [1.  , 0.  , 0.  ],\n",
              "       [0.  , 0.  , 1.  ],\n",
              "       [0.  , 0.99, 0.01],\n",
              "       [1.  , 0.  , 0.  ],\n",
              "       [0.  , 0.08, 0.92],\n",
              "       [0.  , 0.  , 1.  ],\n",
              "       [0.  , 1.  , 0.  ],\n",
              "       [1.  , 0.  , 0.  ],\n",
              "       [0.  , 0.57, 0.43]])"
            ]
          },
          "metadata": {},
          "execution_count": 10
        }
      ]
    },
    {
      "cell_type": "code",
      "source": [
        "from sklearn.metrics import confusion_matrix\n",
        "cm = confusion_matrix(y_test, y_pred)\n",
        "print(cm)"
      ],
      "metadata": {
        "colab": {
          "base_uri": "https://localhost:8080/"
        },
        "id": "s5o7isPQi2Aj",
        "outputId": "d00f09fa-1036-4c3b-ff39-60129b3d1aa8"
      },
      "execution_count": null,
      "outputs": [
        {
          "output_type": "stream",
          "name": "stdout",
          "text": [
            "[[13  0  0]\n",
            " [ 0 16  0]\n",
            " [ 0  0  9]]\n"
          ]
        }
      ]
    },
    {
      "cell_type": "code",
      "source": [
        "# Plot confusion matrix\n",
        "import seaborn as sns\n",
        "# confusion matrix sns heatmap \n",
        "ax = plt.axes()\n",
        "df_cm = cm\n",
        "sns.heatmap(df_cm, annot=True, annot_kws={\"size\": 30}, fmt='d',cmap=\"Blues\", ax = ax )\n",
        "ax.set_title('Confusion Matrix')\n",
        "plt.show()"
      ],
      "metadata": {
        "colab": {
          "base_uri": "https://localhost:8080/",
          "height": 457
        },
        "id": "TXuh1RKhi6kC",
        "outputId": "c0adf517-56d6-456e-eb67-ef087f113d07"
      },
      "execution_count": null,
      "outputs": [
        {
          "output_type": "display_data",
          "data": {
            "text/plain": [
              "<Figure size 640x480 with 2 Axes>"
            ],
            "image/png": "[encoded data removed]"
          },
          "metadata": {}
        }
      ]
    },
    {
      "cell_type": "code",
      "source": [
        "from sklearn import metrics\n",
        "print(\"Accuracy:\",metrics.accuracy_score(y_test, y_pred))\n",
        "print(\"Precision:\",metrics.precision_score(y_test, y_pred,average=None))\n",
        "print(\"Recall:\",metrics.recall_score(y_test, y_pred,average=None))"
      ],
      "metadata": {
        "colab": {
          "base_uri": "https://localhost:8080/"
        },
        "id": "OGpRE3ZRi_UE",
        "outputId": "7d788d88-7739-4e0f-bbdf-f31af24cdf09"
      },
      "execution_count": null,
      "outputs": [
        {
          "output_type": "stream",
          "name": "stdout",
          "text": [
            "Accuracy: 1.0\n",
            "Precision: [1. 1. 1.]\n",
            "Recall: [1. 1. 1.]\n"
          ]
        }
      ]
    },
    {
      "cell_type": "code",
      "source": [
        "from sklearn.metrics import f1_score\n",
        "print(\"f1 score for base model is : \" , f1_score(y_test,y_pred,average='micro'))"
      ],
      "metadata": {
        "colab": {
          "base_uri": "https://localhost:8080/"
        },
        "id": "5nOXkOATjCAk",
        "outputId": "07f50b1c-2a53-42b8-878b-d91fd524eba1"
      },
      "execution_count": null,
      "outputs": [
        {
          "output_type": "stream",
          "name": "stdout",
          "text": [
            "f1 score for base model is :  1.0\n"
          ]
        }
      ]
    }
  ]
}